{
 "cells": [
  {
   "cell_type": "code",
   "execution_count": null,
   "id": "a2580b7b-7edf-4279-a159-87c6c2787754",
   "metadata": {},
   "outputs": [],
   "source": [
    "# checking kaggle dataset list"
   ]
  },
  {
   "cell_type": "code",
   "execution_count": 29,
   "id": "a72844bb-a197-42f6-bf0a-6084015eb37a",
   "metadata": {},
   "outputs": [
    {
     "name": "stdout",
     "output_type": "stream",
     "text": [
      "ref                                                                   title                                                size  lastUpdated          downloadCount  voteCount  usabilityRating  \n",
      "--------------------------------------------------------------------  --------------------------------------------------  -----  -------------------  -------------  ---------  ---------------  \n",
      "arnabchaki/data-science-salaries-2023                                 Data Science Salaries 2023 💸                         25KB  2023-04-13 09:55:16          21824        604  1.0              \n",
      "mauryansshivam/netflix-ott-revenue-and-subscribers-csv-file           Netflix OTT Revenue and Subscribers (CSV File)        2KB  2023-05-13 17:40:23            936         23  1.0              \n",
      "fatihb/coffee-quality-data-cqi                                        Coffee Quality Data (CQI May-2023)                   22KB  2023-05-12 13:06:39           2369         56  1.0              \n",
      "darshanprabhu09/stock-prices-for                                      Stock prices of Amazon , Microsoft , Google, Apple   85KB  2023-05-16 15:17:16           1033         31  1.0              \n",
      "adityaramachandran27/world-air-quality-index-by-city-and-coordinates  World Air Quality Index by City and Coordinates     372KB  2023-05-07 07:29:26            976         28  1.0              \n",
      "anxods/spotify-top-50-playlist-songs-anxods                           Spotify Top 50 Playlist Songs | @anxods              66KB  2023-05-28 11:40:44            887         29  0.9411765        \n",
      "bilalwaseer/google-stocks-complete                                    Google Stocks Complete                               98KB  2023-05-16 18:17:17            530         23  1.0              \n",
      "iammustafatz/diabetes-prediction-dataset                              Diabetes prediction dataset                         734KB  2023-04-08 06:11:45          11317        166  1.0              \n",
      "tanisha1416/aqi-bangalore-2023                                        Smog City Diaries: Unveiling Air Quality Trends📈      4KB  2023-05-25 04:18:15            336         23  1.0              \n",
      "mohithsairamreddy/salary-data                                         Salary_Data                                          17KB  2023-05-18 14:05:19           1446         38  0.88235295       \n",
      "desalegngeb/students-exam-scores                                      Students Exam Scores: Extended Dataset              695KB  2023-04-14 00:15:38           9066        179  1.0              \n",
      "utkarshx27/lovoo-dating-app-dataset                                   Dating App Fame & Behavior                          572KB  2023-05-14 12:26:00            624         21  1.0              \n",
      "ashpalsingh1525/imdb-movies-dataset                                   IMDB movies dataset                                   3MB  2023-04-28 23:18:15           2528         55  1.0              \n",
      "radheshyamkollipara/bank-customer-churn                               Bank Customer Churn                                 307KB  2023-04-28 16:32:01           2563         41  1.0              \n",
      "danbraswell/temporary-us-births                                       US Births 👶 by Year, State, and Education Level      60KB  2023-05-08 23:15:33           1038         22  1.0              \n",
      "utkarshx27/fashion-ecommerce-user-data                                Fashion E-commerce User Data                          2MB  2023-05-19 11:04:09            825         29  1.0              \n",
      "riybot/riyadh-cafes                                                   Riyadh Cafes                                        251KB  2023-05-22 22:24:22            577         25  1.0              \n",
      "arnabchaki/tripadvisor-reviews-2023                                   Tripadvisor Reviews 2023 ⭐                           22MB  2023-05-17 08:26:35            415         24  1.0              \n",
      "utkarshx27/inflation-rate-in-asia                                     Inflation Rate in Asia                                3KB  2023-05-13 17:41:29           1052         34  1.0              \n",
      "utkarshx27/breast-cancer-wisconsin-diagnostic-dataset                 Breast Cancer Wisconsin Diagnostic Dataset           48KB  2023-05-10 04:40:33            681         27  1.0              \n"
     ]
    }
   ],
   "source": [
    "!kaggle datasets list"
   ]
  },
  {
   "cell_type": "code",
   "execution_count": null,
   "id": "97da3c6c-93da-43bf-acbc-43346267dc27",
   "metadata": {
    "scrolled": true
   },
   "outputs": [],
   "source": [
    "# downloading a specific dataset\n",
    "!kaggle datasets download -d arnabchaki/data-science-salaries-2023"
   ]
  },
  {
   "cell_type": "code",
   "execution_count": null,
   "id": "93a87862-d554-471e-9ac8-56e7e633e7a7",
   "metadata": {},
   "outputs": [],
   "source": [
    "# unzipping the downloaded dataset\n",
    "!unzip data-science-salaries-2023.zip -d data"
   ]
  },
  {
   "cell_type": "code",
   "execution_count": null,
   "id": "b87211ca-d1fa-4210-9c43-75fe15393467",
   "metadata": {},
   "outputs": [],
   "source": [
    "# importing pandas\n",
    "import pandas as pd"
   ]
  },
  {
   "cell_type": "code",
   "execution_count": null,
   "id": "15cb4c3a-1452-440f-a04a-3c21794a1c31",
   "metadata": {},
   "outputs": [],
   "source": [
    "# loading the dataset csv file into a pandas dataframe\n",
    "df = pd.read_csv('data/ds_salaries.csv')"
   ]
  },
  {
   "cell_type": "code",
   "execution_count": null,
   "id": "59f88816-2b92-4ce6-854e-71452d180e79",
   "metadata": {},
   "outputs": [],
   "source": [
    "# checking the first 10 rows in dataframe\n",
    "df.head(10)"
   ]
  },
  {
   "cell_type": "markdown",
   "id": "8f883bd2-d25b-4b19-937b-817d67272cbe",
   "metadata": {},
   "source": [
    "Loading this data on a Pandas DataFrame we were able to check that the corrected dataset was downloaded, and the next steps could be performing a *exploratory analysis*, with a couple of seaborn plots, some statistics metrics generated to better 'undestand' this data, and then proceed to a deep analysis as already cited. "
   ]
  }
 ],
 "metadata": {
  "kernelspec": {
   "display_name": "Python 3 (ipykernel)",
   "language": "python",
   "name": "python3"
  },
  "language_info": {
   "codemirror_mode": {
    "name": "ipython",
    "version": 3
   },
   "file_extension": ".py",
   "mimetype": "text/x-python",
   "name": "python",
   "nbconvert_exporter": "python",
   "pygments_lexer": "ipython3",
   "version": "3.10.11"
  }
 },
 "nbformat": 4,
 "nbformat_minor": 5
}
