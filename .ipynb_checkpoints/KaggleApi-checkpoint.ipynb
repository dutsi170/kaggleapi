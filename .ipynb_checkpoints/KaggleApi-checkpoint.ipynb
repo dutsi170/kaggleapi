{
 "cells": [
  {
   "attachments": {},
   "cell_type": "markdown",
   "id": "18034d3c-fcfc-4db9-b28d-09144bb10ea4",
   "metadata": {},
   "source": [
    "# Downloading Kaggle dataset using Kaggle API"
   ]
  },
  {
   "attachments": {},
   "cell_type": "markdown",
   "id": "3645f3d2-cda8-4907-b4d6-57dc46461e8d",
   "metadata": {},
   "source": [
    "### What is Kaggle?"
   ]
  },
  {
   "attachments": {},
   "cell_type": "markdown",
   "id": "a3f7ea68-1d48-4847-8b63-c22b7b235a9f",
   "metadata": {},
   "source": [
    "Kaggle is a worldwide 'data wherever' community, which means that you can use thousands of available datasets to get better and better in your data-skillset with wrangling some data, training Machine Learning models that will predict some target value given the features, create dashboard visualizations that will impress everyone, or just use them when creating some online tutorial."
   ]
  },
  {
   "attachments": {},
   "cell_type": "markdown",
   "id": "245f3997-362a-477a-b5de-f69d28fe9176",
   "metadata": {},
   "source": [
    "### Trying to use kaggle API"
   ]
  },
  {
   "attachments": {},
   "cell_type": "markdown",
   "id": "8f62e2e9-f149-4e16-b1ff-f2d179c08001",
   "metadata": {},
   "source": [
    "In order to be able to download datasets directly from the Kaggle 'repo' (instead of manually entering the site and downloading the required data), we need to install a python module called kaggle."
   ]
  },
  {
   "attachments": {},
   "cell_type": "markdown",
   "id": "1c5aab58-70b5-4676-bf34-0eacac0d9140",
   "metadata": {},
   "source": [
    "Run the `!kaggle` command on terminal to run kaggle for the first time."
   ]
  },
  {
   "cell_type": "code",
   "execution_count": 24,
   "id": "0d51e12c-f88a-42e2-840f-19f119ae2a28",
   "metadata": {},
   "outputs": [
    {
     "name": "stdout",
     "output_type": "stream",
     "text": [
      "/bin/bash: line 1: kaggle: command not found\n"
     ]
    }
   ],
   "source": [
    "!kaggle"
   ]
  },
  {
   "attachments": {},
   "cell_type": "markdown",
   "id": "4fbdc4d0-71a0-492d-9d44-a0ae6a36912b",
   "metadata": {},
   "source": [
    "As we can see, we need to first install this package."
   ]
  },
  {
   "attachments": {},
   "cell_type": "markdown",
   "id": "a50d549f-86d9-4243-886f-2233dbc415f6",
   "metadata": {},
   "source": [
    "### Installing kaggle API"
   ]
  },
  {
   "attachments": {},
   "cell_type": "markdown",
   "id": "a413f4c3-dd61-4f35-9666-ccb3ddffdc1a",
   "metadata": {},
   "source": [
    "Run the `!pip install kaggle` command on Jupyter terminal to install kaggle on our environment through pip package manager."
   ]
  },
  {
   "cell_type": "code",
   "execution_count": 25,
   "id": "772dcafa-bb20-4a09-9d69-325be0b4e5a4",
   "metadata": {},
   "outputs": [
    {
     "name": "stdout",
     "output_type": "stream",
     "text": [
      "Collecting kaggle\n",
      "  Downloading kaggle-1.5.13.tar.gz (63 kB)\n",
      "\u001b[2K     \u001b[90m━━━━━━━━━━━━━━━━━━━━━━━━━━━━━━━━━━━━━━━━\u001b[0m \u001b[32m63.3/63.3 kB\u001b[0m \u001b[31m1.7 MB/s\u001b[0m eta \u001b[36m0:00:00\u001b[0m\n",
      "\u001b[?25h  Preparing metadata (setup.py) ... \u001b[?25ldone\n",
      "\u001b[?25hRequirement already satisfied: six>=1.10 in /opt/conda/lib/python3.10/site-packages (from kaggle) (1.16.0)\n",
      "Requirement already satisfied: certifi in /opt/conda/lib/python3.10/site-packages (from kaggle) (2023.5.7)\n",
      "Requirement already satisfied: python-dateutil in /opt/conda/lib/python3.10/site-packages (from kaggle) (2.8.2)\n",
      "Requirement already satisfied: requests in /opt/conda/lib/python3.10/site-packages (from kaggle) (2.31.0)\n",
      "Requirement already satisfied: tqdm in /opt/conda/lib/python3.10/site-packages (from kaggle) (4.65.0)\n",
      "Requirement already satisfied: python-slugify in /opt/conda/lib/python3.10/site-packages (from kaggle) (8.0.1)\n",
      "Requirement already satisfied: urllib3 in /opt/conda/lib/python3.10/site-packages (from kaggle) (2.0.2)\n",
      "Requirement already satisfied: text-unidecode>=1.3 in /opt/conda/lib/python3.10/site-packages (from python-slugify->kaggle) (1.3)\n",
      "Requirement already satisfied: charset-normalizer<4,>=2 in /opt/conda/lib/python3.10/site-packages (from requests->kaggle) (3.1.0)\n",
      "Requirement already satisfied: idna<4,>=2.5 in /opt/conda/lib/python3.10/site-packages (from requests->kaggle) (3.4)\n",
      "Building wheels for collected packages: kaggle\n",
      "  Building wheel for kaggle (setup.py) ... \u001b[?25ldone\n",
      "\u001b[?25h  Created wheel for kaggle: filename=kaggle-1.5.13-py3-none-any.whl size=77717 sha256=26d7e483a94d586c0053472c53e0d6c10440647bfb92c228b4e0e30d5dde6620\n",
      "  Stored in directory: /home/jovyan/.cache/pip/wheels/f3/16/ff/34e7d368370d4fd68bb749a59f1d2639ed66f3c14358e340a1\n",
      "Successfully built kaggle\n",
      "Installing collected packages: kaggle\n",
      "Successfully installed kaggle-1.5.13\n"
     ]
    }
   ],
   "source": [
    "!pip install kaggle"
   ]
  },
  {
   "cell_type": "markdown",
   "id": "7cba5aec-3639-4d14-aa0e-913802ae022b",
   "metadata": {},
   "source": [
    "Now the kaggle api client was installed and we are 1 step away from getting what we need."
   ]
  },
  {
   "attachments": {},
   "cell_type": "markdown",
   "id": "b30cb23f-6d7b-4060-85c5-31e87f1a5eed",
   "metadata": {},
   "source": [
    "### Trying to access datasets list from the API"
   ]
  },
  {
   "attachments": {},
   "cell_type": "markdown",
   "id": "1bd6065b-025d-408d-b4b2-b848462b3297",
   "metadata": {},
   "source": [
    "Running the `!kaggle datasets list` command:"
   ]
  },
  {
   "cell_type": "code",
   "execution_count": 27,
   "id": "747cd08d-3e66-4ae6-9c6c-62f0b7ef2254",
   "metadata": {},
   "outputs": [
    {
     "name": "stdout",
     "output_type": "stream",
     "text": [
      "Traceback (most recent call last):\n",
      "  File \"/opt/conda/bin/kaggle\", line 5, in <module>\n",
      "    from kaggle.cli import main\n",
      "  File \"/opt/conda/lib/python3.10/site-packages/kaggle/__init__.py\", line 23, in <module>\n",
      "    api.authenticate()\n",
      "  File \"/opt/conda/lib/python3.10/site-packages/kaggle/api/kaggle_api_extended.py\", line 164, in authenticate\n",
      "    raise IOError('Could not find {}. Make sure it\\'s located in'\n",
      "OSError: Could not find kaggle.json. Make sure it's located in /home/jovyan/.kaggle. Or use the environment method.\n"
     ]
    }
   ],
   "source": [
    "!kaggle datasets list"
   ]
  },
  {
   "attachments": {},
   "cell_type": "markdown",
   "id": "72f82b94-cf78-4efd-9c19-b7663879af6b",
   "metadata": {},
   "source": [
    "### Generating kaggle API Token"
   ]
  },
  {
   "attachments": {},
   "cell_type": "markdown",
   "id": "fb649ca1-791f-4adb-9cfe-beb7135e4b50",
   "metadata": {},
   "source": [
    "As we can see from the error above, the API requires some **authentication** provided in any of the following ways:\n",
    "  - A kaggle json file in .kaggle directory containing the user and his token;\n",
    "  - KAGGLE_USERNAME and KAGGLE_KEY environment variables correctly setted;\n",
    "\n",
    "Whether you choose the first or the second option, the authentication details come from the official kaggle site, and to get this json file you will need to generate a Token from https://www.kaggle.com/settings site under the API section, pressing the 'Create New Token' button. \n",
    "\n",
    "The generated Token will seem like this:\n",
    "```json\n",
    "{\"username\":\"**your_user_name**\",\"key\":\"**a_32_long_hashcode**\"}\n",
    "```\n",
    "For example:\n",
    "```json\n",
    "{\"username\":\"**aderbal**\",\"key\":\"**7b10681fbc3f1c5026d7cf01eb3139d8**\"}\n",
    "```"
   ]
  },
  {
   "attachments": {},
   "cell_type": "markdown",
   "id": "174a2b68-8490-49c0-8b4c-7f39c29e1566",
   "metadata": {},
   "source": [
    "### Trying to access datasets list from the API (again)"
   ]
  },
  {
   "attachments": {},
   "cell_type": "markdown",
   "id": "4e5f75f4-fc47-42f2-89dc-e982eb022879",
   "metadata": {},
   "source": [
    "With the needed authentication provided, we will try running the `!kaggle datasets list` command again. "
   ]
  },
  {
   "cell_type": "code",
   "execution_count": 29,
   "id": "1e05f3ea-72e9-42c2-8893-b1e32b10a464",
   "metadata": {},
   "outputs": [
    {
     "name": "stdout",
     "output_type": "stream",
     "text": [
      "ref                                                                   title                                                size  lastUpdated          downloadCount  voteCount  usabilityRating  \n",
      "--------------------------------------------------------------------  --------------------------------------------------  -----  -------------------  -------------  ---------  ---------------  \n",
      "arnabchaki/data-science-salaries-2023                                 Data Science Salaries 2023 💸                         25KB  2023-04-13 09:55:16          21824        604  1.0              \n",
      "mauryansshivam/netflix-ott-revenue-and-subscribers-csv-file           Netflix OTT Revenue and Subscribers (CSV File)        2KB  2023-05-13 17:40:23            936         23  1.0              \n",
      "fatihb/coffee-quality-data-cqi                                        Coffee Quality Data (CQI May-2023)                   22KB  2023-05-12 13:06:39           2369         56  1.0              \n",
      "darshanprabhu09/stock-prices-for                                      Stock prices of Amazon , Microsoft , Google, Apple   85KB  2023-05-16 15:17:16           1033         31  1.0              \n",
      "adityaramachandran27/world-air-quality-index-by-city-and-coordinates  World Air Quality Index by City and Coordinates     372KB  2023-05-07 07:29:26            976         28  1.0              \n",
      "anxods/spotify-top-50-playlist-songs-anxods                           Spotify Top 50 Playlist Songs | @anxods              66KB  2023-05-28 11:40:44            887         29  0.9411765        \n",
      "bilalwaseer/google-stocks-complete                                    Google Stocks Complete                               98KB  2023-05-16 18:17:17            530         23  1.0              \n",
      "iammustafatz/diabetes-prediction-dataset                              Diabetes prediction dataset                         734KB  2023-04-08 06:11:45          11317        166  1.0              \n",
      "tanisha1416/aqi-bangalore-2023                                        Smog City Diaries: Unveiling Air Quality Trends📈      4KB  2023-05-25 04:18:15            336         23  1.0              \n",
      "mohithsairamreddy/salary-data                                         Salary_Data                                          17KB  2023-05-18 14:05:19           1446         38  0.88235295       \n",
      "desalegngeb/students-exam-scores                                      Students Exam Scores: Extended Dataset              695KB  2023-04-14 00:15:38           9066        179  1.0              \n",
      "utkarshx27/lovoo-dating-app-dataset                                   Dating App Fame & Behavior                          572KB  2023-05-14 12:26:00            624         21  1.0              \n",
      "ashpalsingh1525/imdb-movies-dataset                                   IMDB movies dataset                                   3MB  2023-04-28 23:18:15           2528         55  1.0              \n",
      "radheshyamkollipara/bank-customer-churn                               Bank Customer Churn                                 307KB  2023-04-28 16:32:01           2563         41  1.0              \n",
      "danbraswell/temporary-us-births                                       US Births 👶 by Year, State, and Education Level      60KB  2023-05-08 23:15:33           1038         22  1.0              \n",
      "utkarshx27/fashion-ecommerce-user-data                                Fashion E-commerce User Data                          2MB  2023-05-19 11:04:09            825         29  1.0              \n",
      "riybot/riyadh-cafes                                                   Riyadh Cafes                                        251KB  2023-05-22 22:24:22            577         25  1.0              \n",
      "arnabchaki/tripadvisor-reviews-2023                                   Tripadvisor Reviews 2023 ⭐                           22MB  2023-05-17 08:26:35            415         24  1.0              \n",
      "utkarshx27/inflation-rate-in-asia                                     Inflation Rate in Asia                                3KB  2023-05-13 17:41:29           1052         34  1.0              \n",
      "utkarshx27/breast-cancer-wisconsin-diagnostic-dataset                 Breast Cancer Wisconsin Diagnostic Dataset           48KB  2023-05-10 04:40:33            681         27  1.0              \n"
     ]
    }
   ],
   "source": [
    "!kaggle datasets list"
   ]
  },
  {
   "attachments": {},
   "cell_type": "markdown",
   "id": "71eba3b2-b046-4794-81c8-69c2e627a4e4",
   "metadata": {},
   "source": [
    "As we can see, no error message was shown, so the API is correctly authenticated and we can start using it as we need."
   ]
  },
  {
   "attachments": {},
   "cell_type": "markdown",
   "id": "51bbca15-fa2c-4e5d-ae58-3cc700700bbf",
   "metadata": {},
   "source": [
    "### Downloading a specific Dataset"
   ]
  },
  {
   "cell_type": "markdown",
   "id": "8a65f01a-6437-4b7e-9a70-9713c9426183",
   "metadata": {},
   "source": [
    "The `!kaggle datasets download -d some_dataset_on_kaggle_site` will provide us with the files of the chosen dataset."
   ]
  },
  {
   "attachments": {},
   "cell_type": "markdown",
   "id": "22b60129-ed6a-40d4-91ca-8c61bb8aeead",
   "metadata": {
    "scrolled": true
   },
   "source": [
    "```bash\n",
    "!kaggle datasets download -d arnabchaki/data-science-salaries-2023\n",
    "```"
   ]
  },
  {
   "cell_type": "code",
   "execution_count": 37,
   "id": "97da3c6c-93da-43bf-acbc-43346267dc27",
   "metadata": {
    "scrolled": true
   },
   "outputs": [
    {
     "name": "stdout",
     "output_type": "stream",
     "text": [
      "Downloading data-science-salaries-2023.zip to /home/jovyan/work/kaggle\n",
      "  0%|                                               | 0.00/25.4k [00:00<?, ?B/s]\n",
      "100%|██████████████████████████████████████| 25.4k/25.4k [00:00<00:00, 1.66MB/s]\n"
     ]
    }
   ],
   "source": [
    "!kaggle datasets download -d arnabchaki/data-science-salaries-2023"
   ]
  },
  {
   "attachments": {},
   "cell_type": "markdown",
   "id": "b1ec3402-9769-4bd8-abb9-2f8420bd0d41",
   "metadata": {},
   "source": [
    "### Unziping the downloaded Dataset"
   ]
  },
  {
   "cell_type": "markdown",
   "id": "9b4ee50a-f9e3-4665-aef0-c350335d54b9",
   "metadata": {},
   "source": [
    "The chosen dataset *arnabchaki/data-science-salaries-2023* downloaded a zip file containing the desired data, so we need to unzip it."
   ]
  },
  {
   "cell_type": "markdown",
   "id": "62644d59-3190-4e13-98bd-5510253041d3",
   "metadata": {},
   "source": [
    "Running he `unzip` command will expand the zip file to a folder with its files."
   ]
  },
  {
   "cell_type": "code",
   "execution_count": 38,
   "id": "93a87862-d554-471e-9ac8-56e7e633e7a7",
   "metadata": {},
   "outputs": [
    {
     "name": "stdout",
     "output_type": "stream",
     "text": [
      "Archive:  data-science-salaries-2023.zip\n",
      "  inflating: data/ds_salaries.csv    \n"
     ]
    }
   ],
   "source": [
    "!unzip data-science-salaries-2023.zip -d data"
   ]
  },
  {
   "cell_type": "markdown",
   "id": "9e5fb22b-5a7a-43a8-bf2c-de4439d3675d",
   "metadata": {},
   "source": [
    "### Checking the downloaded dataset"
   ]
  },
  {
   "cell_type": "markdown",
   "id": "a70f6fb4-61c3-4483-a8cc-f00c5d137aba",
   "metadata": {},
   "source": [
    "Now the dataset file was created on data subfolder as specified and is ready to use."
   ]
  },
  {
   "cell_type": "markdown",
   "id": "9a45e172-ff0b-47ae-ac67-034adc70026f",
   "metadata": {},
   "source": [
    "```python\n",
    "# importing pandas (and in case of error, just run `!pip install pandas`)\n",
    "import pandas as pd\n",
    "\n",
    "# loading the dataset on a dataframe\n",
    "df = pd.read_csv('data/ds_salaries.csv')\n",
    "\n",
    "#checking the first 10 rows in the df\n",
    "df.head(10)\n",
    "```"
   ]
  },
  {
   "cell_type": "code",
   "execution_count": 39,
   "id": "b87211ca-d1fa-4210-9c43-75fe15393467",
   "metadata": {},
   "outputs": [],
   "source": [
    "import pandas as pd"
   ]
  },
  {
   "cell_type": "code",
   "execution_count": 40,
   "id": "8b5c8005-13a5-424a-8627-a50154e0cfd2",
   "metadata": {},
   "outputs": [
    {
     "data": {
      "text/html": [
       "<div>\n",
       "<style scoped>\n",
       "    .dataframe tbody tr th:only-of-type {\n",
       "        vertical-align: middle;\n",
       "    }\n",
       "\n",
       "    .dataframe tbody tr th {\n",
       "        vertical-align: top;\n",
       "    }\n",
       "\n",
       "    .dataframe thead th {\n",
       "        text-align: right;\n",
       "    }\n",
       "</style>\n",
       "<table border=\"1\" class=\"dataframe\">\n",
       "  <thead>\n",
       "    <tr style=\"text-align: right;\">\n",
       "      <th></th>\n",
       "      <th>work_year</th>\n",
       "      <th>experience_level</th>\n",
       "      <th>employment_type</th>\n",
       "      <th>job_title</th>\n",
       "      <th>salary</th>\n",
       "      <th>salary_currency</th>\n",
       "      <th>salary_in_usd</th>\n",
       "      <th>employee_residence</th>\n",
       "      <th>remote_ratio</th>\n",
       "      <th>company_location</th>\n",
       "      <th>company_size</th>\n",
       "    </tr>\n",
       "  </thead>\n",
       "  <tbody>\n",
       "    <tr>\n",
       "      <th>0</th>\n",
       "      <td>2023</td>\n",
       "      <td>SE</td>\n",
       "      <td>FT</td>\n",
       "      <td>Principal Data Scientist</td>\n",
       "      <td>80000</td>\n",
       "      <td>EUR</td>\n",
       "      <td>85847</td>\n",
       "      <td>ES</td>\n",
       "      <td>100</td>\n",
       "      <td>ES</td>\n",
       "      <td>L</td>\n",
       "    </tr>\n",
       "    <tr>\n",
       "      <th>1</th>\n",
       "      <td>2023</td>\n",
       "      <td>MI</td>\n",
       "      <td>CT</td>\n",
       "      <td>ML Engineer</td>\n",
       "      <td>30000</td>\n",
       "      <td>USD</td>\n",
       "      <td>30000</td>\n",
       "      <td>US</td>\n",
       "      <td>100</td>\n",
       "      <td>US</td>\n",
       "      <td>S</td>\n",
       "    </tr>\n",
       "    <tr>\n",
       "      <th>2</th>\n",
       "      <td>2023</td>\n",
       "      <td>MI</td>\n",
       "      <td>CT</td>\n",
       "      <td>ML Engineer</td>\n",
       "      <td>25500</td>\n",
       "      <td>USD</td>\n",
       "      <td>25500</td>\n",
       "      <td>US</td>\n",
       "      <td>100</td>\n",
       "      <td>US</td>\n",
       "      <td>S</td>\n",
       "    </tr>\n",
       "    <tr>\n",
       "      <th>3</th>\n",
       "      <td>2023</td>\n",
       "      <td>SE</td>\n",
       "      <td>FT</td>\n",
       "      <td>Data Scientist</td>\n",
       "      <td>175000</td>\n",
       "      <td>USD</td>\n",
       "      <td>175000</td>\n",
       "      <td>CA</td>\n",
       "      <td>100</td>\n",
       "      <td>CA</td>\n",
       "      <td>M</td>\n",
       "    </tr>\n",
       "    <tr>\n",
       "      <th>4</th>\n",
       "      <td>2023</td>\n",
       "      <td>SE</td>\n",
       "      <td>FT</td>\n",
       "      <td>Data Scientist</td>\n",
       "      <td>120000</td>\n",
       "      <td>USD</td>\n",
       "      <td>120000</td>\n",
       "      <td>CA</td>\n",
       "      <td>100</td>\n",
       "      <td>CA</td>\n",
       "      <td>M</td>\n",
       "    </tr>\n",
       "    <tr>\n",
       "      <th>5</th>\n",
       "      <td>2023</td>\n",
       "      <td>SE</td>\n",
       "      <td>FT</td>\n",
       "      <td>Applied Scientist</td>\n",
       "      <td>222200</td>\n",
       "      <td>USD</td>\n",
       "      <td>222200</td>\n",
       "      <td>US</td>\n",
       "      <td>0</td>\n",
       "      <td>US</td>\n",
       "      <td>L</td>\n",
       "    </tr>\n",
       "    <tr>\n",
       "      <th>6</th>\n",
       "      <td>2023</td>\n",
       "      <td>SE</td>\n",
       "      <td>FT</td>\n",
       "      <td>Applied Scientist</td>\n",
       "      <td>136000</td>\n",
       "      <td>USD</td>\n",
       "      <td>136000</td>\n",
       "      <td>US</td>\n",
       "      <td>0</td>\n",
       "      <td>US</td>\n",
       "      <td>L</td>\n",
       "    </tr>\n",
       "    <tr>\n",
       "      <th>7</th>\n",
       "      <td>2023</td>\n",
       "      <td>SE</td>\n",
       "      <td>FT</td>\n",
       "      <td>Data Scientist</td>\n",
       "      <td>219000</td>\n",
       "      <td>USD</td>\n",
       "      <td>219000</td>\n",
       "      <td>CA</td>\n",
       "      <td>0</td>\n",
       "      <td>CA</td>\n",
       "      <td>M</td>\n",
       "    </tr>\n",
       "    <tr>\n",
       "      <th>8</th>\n",
       "      <td>2023</td>\n",
       "      <td>SE</td>\n",
       "      <td>FT</td>\n",
       "      <td>Data Scientist</td>\n",
       "      <td>141000</td>\n",
       "      <td>USD</td>\n",
       "      <td>141000</td>\n",
       "      <td>CA</td>\n",
       "      <td>0</td>\n",
       "      <td>CA</td>\n",
       "      <td>M</td>\n",
       "    </tr>\n",
       "    <tr>\n",
       "      <th>9</th>\n",
       "      <td>2023</td>\n",
       "      <td>SE</td>\n",
       "      <td>FT</td>\n",
       "      <td>Data Scientist</td>\n",
       "      <td>147100</td>\n",
       "      <td>USD</td>\n",
       "      <td>147100</td>\n",
       "      <td>US</td>\n",
       "      <td>0</td>\n",
       "      <td>US</td>\n",
       "      <td>M</td>\n",
       "    </tr>\n",
       "  </tbody>\n",
       "</table>\n",
       "</div>"
      ],
      "text/plain": [
       "   work_year experience_level employment_type                 job_title   \n",
       "0       2023               SE              FT  Principal Data Scientist  \\\n",
       "1       2023               MI              CT               ML Engineer   \n",
       "2       2023               MI              CT               ML Engineer   \n",
       "3       2023               SE              FT            Data Scientist   \n",
       "4       2023               SE              FT            Data Scientist   \n",
       "5       2023               SE              FT         Applied Scientist   \n",
       "6       2023               SE              FT         Applied Scientist   \n",
       "7       2023               SE              FT            Data Scientist   \n",
       "8       2023               SE              FT            Data Scientist   \n",
       "9       2023               SE              FT            Data Scientist   \n",
       "\n",
       "   salary salary_currency  salary_in_usd employee_residence  remote_ratio   \n",
       "0   80000             EUR          85847                 ES           100  \\\n",
       "1   30000             USD          30000                 US           100   \n",
       "2   25500             USD          25500                 US           100   \n",
       "3  175000             USD         175000                 CA           100   \n",
       "4  120000             USD         120000                 CA           100   \n",
       "5  222200             USD         222200                 US             0   \n",
       "6  136000             USD         136000                 US             0   \n",
       "7  219000             USD         219000                 CA             0   \n",
       "8  141000             USD         141000                 CA             0   \n",
       "9  147100             USD         147100                 US             0   \n",
       "\n",
       "  company_location company_size  \n",
       "0               ES            L  \n",
       "1               US            S  \n",
       "2               US            S  \n",
       "3               CA            M  \n",
       "4               CA            M  \n",
       "5               US            L  \n",
       "6               US            L  \n",
       "7               CA            M  \n",
       "8               CA            M  \n",
       "9               US            M  "
      ]
     },
     "execution_count": 40,
     "metadata": {},
     "output_type": "execute_result"
    }
   ],
   "source": [
    "df = pd.read_csv('data/ds_salaries.csv')\n",
    "df.head(10)"
   ]
  },
  {
   "cell_type": "markdown",
   "id": "8f883bd2-d25b-4b19-937b-817d67272cbe",
   "metadata": {},
   "source": [
    "Loading this data on a Pandas DataFrame we were able to check that the corrected dataset was downloaded, and the next steps could be performing a *exploratory analysis*, with a couple of seaborn plots, some statistics metrics generated to better 'undestand' this data, and then proceed to a deep analysis as already cited. "
   ]
  }
 ],
 "metadata": {
  "kernelspec": {
   "display_name": "Python 3 (ipykernel)",
   "language": "python",
   "name": "python3"
  },
  "language_info": {
   "codemirror_mode": {
    "name": "ipython",
    "version": 3
   },
   "file_extension": ".py",
   "mimetype": "text/x-python",
   "name": "python",
   "nbconvert_exporter": "python",
   "pygments_lexer": "ipython3",
   "version": "3.10.11"
  }
 },
 "nbformat": 4,
 "nbformat_minor": 5
}
